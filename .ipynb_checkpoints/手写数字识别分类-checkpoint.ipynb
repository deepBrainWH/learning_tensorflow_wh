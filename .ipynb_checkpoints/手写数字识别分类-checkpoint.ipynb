{
 "cells": [
  {
   "cell_type": "code",
   "execution_count": 3,
   "metadata": {},
   "outputs": [
    {
     "name": "stdout",
     "output_type": "stream",
     "text": [
      "Extracting MNIST_data/train-images-idx3-ubyte.gz\n",
      "Extracting MNIST_data/train-labels-idx1-ubyte.gz\n",
      "Extracting MNIST_data/t10k-images-idx3-ubyte.gz\n",
      "Extracting MNIST_data/t10k-labels-idx1-ubyte.gz\n",
      "WARNING:tensorflow:From <ipython-input-3-2aa34ea46bc8>:28: arg_max (from tensorflow.python.ops.gen_math_ops) is deprecated and will be removed in a future version.\n",
      "Instructions for updating:\n",
      "Use `argmax` instead\n",
      "Iter 0,Testing Accuracy0.8315\n",
      "Iter 1,Testing Accuracy0.871\n",
      "Iter 2,Testing Accuracy0.8818\n",
      "Iter 3,Testing Accuracy0.8886\n",
      "Iter 4,Testing Accuracy0.894\n",
      "Iter 5,Testing Accuracy0.8969\n",
      "Iter 6,Testing Accuracy0.8997\n",
      "Iter 7,Testing Accuracy0.902\n",
      "Iter 8,Testing Accuracy0.9043\n",
      "Iter 9,Testing Accuracy0.9049\n",
      "Iter 10,Testing Accuracy0.9062\n",
      "Iter 11,Testing Accuracy0.9071\n",
      "Iter 12,Testing Accuracy0.9085\n",
      "Iter 13,Testing Accuracy0.9094\n",
      "Iter 14,Testing Accuracy0.9098\n",
      "Iter 15,Testing Accuracy0.9106\n",
      "Iter 16,Testing Accuracy0.9116\n",
      "Iter 17,Testing Accuracy0.9125\n",
      "Iter 18,Testing Accuracy0.9129\n",
      "Iter 19,Testing Accuracy0.9143\n",
      "Iter 20,Testing Accuracy0.9137\n"
     ]
    }
   ],
   "source": [
    "import tensorflow as tf\n",
    "from tensorflow.examples.tutorials.mnist import input_data\n",
    "\n",
    "#读入数据集\n",
    "mnist = input_data.read_data_sets(\"MNIST_data\",one_hot=True)\n",
    "#每个批次的大小\n",
    "batch_size = 100\n",
    "#计算总共有多少个批次\n",
    "n_batch = mnist.train.num_examples // batch_size#num_example is the number of train set\n",
    "\n",
    "#define two place holder\n",
    "x = tf.placeholder(tf.float32,[None,784])\n",
    "y = tf.placeholder(tf.float32,[None,10])\n",
    "\n",
    "#创建一个简单的神经网络，只有输入层和输出层，没有隐藏层s\n",
    "W = tf.Variable(tf.zeros([784,10]))\n",
    "b = tf.Variable(tf.zeros([10]))\n",
    "prediction = tf.nn.softmax(tf.matmul(x,W)+b)#信号的综合通过一个softmax函数转换为一个概率的值\n",
    "\n",
    "#定义二次代价函数\n",
    "loss = tf.reduce_mean(tf.square(prediction-y))\n",
    "#使用梯度下降算法\n",
    "train_step = tf.train.GradientDescentOptimizer(0.2).minimize(loss)\n",
    "\n",
    "#初始化全局变量\n",
    "init = tf.global_variables_initializer()\n",
    "#结果存放在一个bool型列表中\n",
    "correct_prediction = tf.equal(tf.arg_max(y,1),tf.arg_max(prediction,1))\n",
    "#tf.equal()函数返回true和false\n",
    "#tf.arg_max(y,1)返回最大的概率的下标（位置）\n",
    "\n",
    "#求准确率\n",
    "accuracy = tf.reduce_mean(tf.cast(correct_prediction,tf.float32))\n",
    "\n",
    "with tf.Session() as sess:\n",
    "    sess.run(init)\n",
    "    for epoch in range(31):\n",
    "        for batch in range(n_batch):\n",
    "            #每个批次大小是100\n",
    "            batch_x, batch_y = mnist.train.next_batch(batch_size=batch_size)\n",
    "            sess.run(train_step,feed_dict={x:batch_x,y:batch_y})\n",
    "        acc = sess.run(accuracy,feed_dict={x:mnist.test.images,y:mnist.test.labels})\n",
    "        print(\"Iter \"+str(epoch)+\",Testing Accuracy\"+str(acc))\n"
   ]
  },
  {
   "cell_type": "code",
   "execution_count": null,
   "metadata": {
    "collapsed": true
   },
   "outputs": [],
   "source": []
  }
 ],
 "metadata": {
  "kernelspec": {
   "display_name": "Python 3",
   "language": "python",
   "name": "python3"
  },
  "language_info": {
   "codemirror_mode": {
    "name": "ipython",
    "version": 3
   },
   "file_extension": ".py",
   "mimetype": "text/x-python",
   "name": "python",
   "nbconvert_exporter": "python",
   "pygments_lexer": "ipython3",
   "version": "3.6.3"
  }
 },
 "nbformat": 4,
 "nbformat_minor": 2
}
