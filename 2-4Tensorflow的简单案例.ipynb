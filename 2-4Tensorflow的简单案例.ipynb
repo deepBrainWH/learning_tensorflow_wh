{
 "cells": [
  {
   "cell_type": "code",
   "execution_count": 19,
   "metadata": {},
   "outputs": [
    {
     "data": {
      "image/png": "[encoded data removed]",
      "text/plain": [
       "<matplotlib.figure.Figure at 0x28f6b398b70>"
      ]
     },
     "metadata": {},
     "output_type": "display_data"
    },
    {
     "name": "stdout",
     "output_type": "stream",
     "text": [
      "0 [0.06269032, 0.10302708]\n",
      "20 [0.10973625, 0.19402182]\n",
      "40 [0.105871215, 0.19639501]\n",
      "60 [0.10354051, 0.19782609]\n",
      "80 [0.10213504, 0.19868906]\n",
      "100 [0.1012875, 0.19920947]\n",
      "120 [0.10077639, 0.19952329]\n",
      "140 [0.10046817, 0.19971254]\n",
      "160 [0.10028232, 0.19982666]\n",
      "180 [0.10017025, 0.19989547]\n",
      "200 [0.10010267, 0.19993696]\n"
     ]
    },
    {
     "data": {
      "image/png": "[encoded data removed]",
      "text/plain": [
       "<matplotlib.figure.Figure at 0x28f6b3940b8>"
      ]
     },
     "metadata": {},
     "output_type": "display_data"
    }
   ],
   "source": [
    "import tensorflow as tf\n",
    "import matplotlib.pyplot as plt\n",
    "import numpy as np\n",
    "#使用numpu生成100个随机点\n",
    "x_data = np.random.rand(100)\n",
    "y_data = x_data*0.1+0.2\n",
    "plt.plot(x_data,y_data,'r')\n",
    "plt.show()\n",
    "#构造一个线性模型\n",
    "b = tf.Variable(0.)\n",
    "k = tf.Variable(0.)\n",
    "y = k*x_data+b\n",
    "\n",
    "#定义一个二次代价函数\n",
    "loss = tf.reduce_mean(tf.square(y_data-y))\n",
    "#定义一个梯度下降算法来进行训练优化器\n",
    "optimizer = tf.train.GradientDescentOptimizer(0.2)\n",
    "#定义一个最小化代价函数\n",
    "train = optimizer.minimize(loss)\n",
    "\n",
    "#初始化变量\n",
    "init = tf.global_variables_initializer()\n",
    "#定义会话\n",
    "global k_data\n",
    "global b_data\n",
    "with tf.Session() as sess:\n",
    "    sess.run(init)\n",
    "    for step in range(201):\n",
    "        sess.run(train)\n",
    "        if step%20==0:\n",
    "            print(step,sess.run([k,b]))\n",
    "            k_data = sess.run(k)\n",
    "            b_data = sess.run(b)\n",
    "\n",
    "plt.plot(x_data,x_data*k_data+b_data)\n",
    "plt.show()\n"
   ]
  },
  {
   "cell_type": "code",
   "execution_count": null,
   "metadata": {},
   "outputs": [],
   "source": []
  }
 ],
 "metadata": {
  "kernelspec": {
   "display_name": "Python 3",
   "language": "python",
   "name": "python3"
  },
  "language_info": {
   "codemirror_mode": {
    "name": "ipython",
    "version": 3
   },
   "file_extension": ".py",
   "mimetype": "text/x-python",
   "name": "python",
   "nbconvert_exporter": "python",
   "pygments_lexer": "ipython3",
   "version": "3.6.3"
  }
 },
 "nbformat": 4,
 "nbformat_minor": 2
}
